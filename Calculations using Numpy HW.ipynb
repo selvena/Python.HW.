{
 "cells": [
  {
   "cell_type": "code",
   "execution_count": 66,
   "id": "4c791872",
   "metadata": {},
   "outputs": [],
   "source": [
    "import numpy as np"
   ]
  },
  {
   "cell_type": "code",
   "execution_count": 67,
   "id": "c40d680d",
   "metadata": {},
   "outputs": [],
   "source": [
    "a = np.array([[1, 6],\n",
    "              [2, 8],\n",
    "              [3, 11],\n",
    "              [3, 10],\n",
    "              [1, 7]])\n",
    "\n",
    "mean_a = a.mean(axis = 0)"
   ]
  },
  {
   "cell_type": "code",
   "execution_count": 68,
   "id": "fa8fae52",
   "metadata": {},
   "outputs": [
    {
     "name": "stdout",
     "output_type": "stream",
     "text": [
      "Среднее значение по каждому признаку:  [2.  8.4]\n"
     ]
    }
   ],
   "source": [
    "print(\"Среднее значение по каждому признаку: \", mean_a)"
   ]
  },
  {
   "cell_type": "code",
   "execution_count": 69,
   "id": "99613787",
   "metadata": {},
   "outputs": [
    {
     "name": "stdout",
     "output_type": "stream",
     "text": [
      "[[-1.  -2.4]\n",
      " [ 0.  -0.4]\n",
      " [ 1.   2.6]\n",
      " [ 1.   1.6]\n",
      " [-1.  -1.4]]\n"
     ]
    }
   ],
   "source": [
    "a_centered = a - mean_a\n",
    "print(a_centered)"
   ]
  },
  {
   "cell_type": "code",
   "execution_count": 70,
   "id": "3b14c4f8",
   "metadata": {},
   "outputs": [
    {
     "name": "stdout",
     "output_type": "stream",
     "text": [
      "[-1.  0.  1.  1. -1.] [-2.4 -0.4  2.6  1.6 -1.4]\n"
     ]
    }
   ],
   "source": [
    "c = a_centered[:, 0]\n",
    "b = a_centered[:, 1]\n",
    "print(c, b)"
   ]
  },
  {
   "cell_type": "code",
   "execution_count": 71,
   "id": "52adc32c",
   "metadata": {},
   "outputs": [
    {
     "name": "stdout",
     "output_type": "stream",
     "text": [
      "8.0\n"
     ]
    }
   ],
   "source": [
    "a_centered_sp = c.dot(b)\n",
    "print(a_centered_sp)"
   ]
  },
  {
   "cell_type": "code",
   "execution_count": 72,
   "id": "7fb49005",
   "metadata": {},
   "outputs": [
    {
     "name": "stdout",
     "output_type": "stream",
     "text": [
      "Rows =  5\n",
      "Columns =  2\n"
     ]
    }
   ],
   "source": [
    "rows, columns = a.shape\n",
    "\n",
    "print(\"Rows = \",rows)\n",
    "print(\"Columns = \", columns)"
   ]
  },
  {
   "cell_type": "code",
   "execution_count": 73,
   "id": "7b3630a9",
   "metadata": {},
   "outputs": [
    {
     "name": "stdout",
     "output_type": "stream",
     "text": [
      "2.0\n"
     ]
    }
   ],
   "source": [
    "print(a_centered_sp/(rows-1))"
   ]
  },
  {
   "cell_type": "code",
   "execution_count": 81,
   "id": "aea36135",
   "metadata": {},
   "outputs": [
    {
     "name": "stdout",
     "output_type": "stream",
     "text": [
      "[[ 1  2  3  3  1]\n",
      " [ 6  8 11 10  7]]\n"
     ]
    }
   ],
   "source": [
    "a_t = np.transpose(a)\n",
    "print(a_t)"
   ]
  },
  {
   "cell_type": "code",
   "execution_count": 103,
   "id": "0627ba3b",
   "metadata": {},
   "outputs": [
    {
     "name": "stdout",
     "output_type": "stream",
     "text": [
      "2.0\n"
     ]
    }
   ],
   "source": [
    "a_cov = np.cov(a_t)\n",
    "print(a_cov[0, 1])"
   ]
  },
  {
   "cell_type": "code",
   "execution_count": null,
   "id": "a9121b27",
   "metadata": {},
   "outputs": [],
   "source": []
  },
  {
   "cell_type": "code",
   "execution_count": null,
   "id": "6f86c6e6",
   "metadata": {},
   "outputs": [],
   "source": []
  }
 ],
 "metadata": {
  "kernelspec": {
   "display_name": "Python 3 (ipykernel)",
   "language": "python",
   "name": "python3"
  },
  "language_info": {
   "codemirror_mode": {
    "name": "ipython",
    "version": 3
   },
   "file_extension": ".py",
   "mimetype": "text/x-python",
   "name": "python",
   "nbconvert_exporter": "python",
   "pygments_lexer": "ipython3",
   "version": "3.9.7"
  }
 },
 "nbformat": 4,
 "nbformat_minor": 5
}
