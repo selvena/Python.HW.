{
 "cells": [
  {
   "cell_type": "code",
   "execution_count": 69,
   "id": "a9fa041e",
   "metadata": {},
   "outputs": [],
   "source": [
    "import numpy as np\n",
    "import pandas as pd\n",
    "from matplotlib import pyplot as plt\n",
    "from math import *"
   ]
  },
  {
   "cell_type": "code",
   "execution_count": 70,
   "id": "a497a0aa",
   "metadata": {},
   "outputs": [],
   "source": [
    "%matplotlib inline"
   ]
  },
  {
   "cell_type": "markdown",
   "id": "5a77ecfb",
   "metadata": {},
   "source": [
    "1."
   ]
  },
  {
   "cell_type": "code",
   "execution_count": 71,
   "id": "2f13b404",
   "metadata": {},
   "outputs": [
    {
     "data": {
      "text/plain": [
       "array([12, 13, 14, 15, 16, 17, 18, 19, 20, 21, 22, 23])"
      ]
     },
     "execution_count": 71,
     "metadata": {},
     "output_type": "execute_result"
    }
   ],
   "source": [
    "a = np.linspace(12, 24, 12, endpoint=False).astype(int)\n",
    "a"
   ]
  },
  {
   "cell_type": "markdown",
   "id": "e6b765c9",
   "metadata": {},
   "source": [
    "2."
   ]
  },
  {
   "cell_type": "code",
   "execution_count": 72,
   "id": "a1d53813",
   "metadata": {},
   "outputs": [],
   "source": [
    "b1 = np.reshape(a, (12, 1))\n",
    "b2 = np.reshape(a, (2, 6))\n",
    "b3 = np.reshape(a, (6, 2))\n",
    "b4 = np.reshape(a, (3, 4))\n",
    "b5 = np.reshape(a, (4, 3))"
   ]
  },
  {
   "cell_type": "code",
   "execution_count": 73,
   "id": "0d01a572",
   "metadata": {},
   "outputs": [
    {
     "name": "stdout",
     "output_type": "stream",
     "text": [
      "[[12]\n",
      " [13]\n",
      " [14]\n",
      " [15]\n",
      " [16]\n",
      " [17]\n",
      " [18]\n",
      " [19]\n",
      " [20]\n",
      " [21]\n",
      " [22]\n",
      " [23]],\n",
      " [[12 13 14 15 16 17]\n",
      " [18 19 20 21 22 23]],\n",
      " [[12 13]\n",
      " [14 15]\n",
      " [16 17]\n",
      " [18 19]\n",
      " [20 21]\n",
      " [22 23]],\n",
      " [[12 13 14 15]\n",
      " [16 17 18 19]\n",
      " [20 21 22 23]],\n",
      " [[12 13 14]\n",
      " [15 16 17]\n",
      " [18 19 20]\n",
      " [21 22 23]]\n"
     ]
    }
   ],
   "source": [
    "print(f'{b1},\\n {b2},\\n {b3},\\n {b4},\\n {b5}')"
   ]
  },
  {
   "cell_type": "markdown",
   "id": "ce58bc6e",
   "metadata": {},
   "source": [
    "3."
   ]
  },
  {
   "cell_type": "code",
   "execution_count": 74,
   "id": "2f28410c",
   "metadata": {},
   "outputs": [
    {
     "name": "stdout",
     "output_type": "stream",
     "text": [
      "[[12]\n",
      " [13]\n",
      " [14]\n",
      " [15]\n",
      " [16]\n",
      " [17]\n",
      " [18]\n",
      " [19]\n",
      " [20]\n",
      " [21]\n",
      " [22]\n",
      " [23]],\n",
      " [[12 13 14 15 16 17]\n",
      " [18 19 20 21 22 23]],\n",
      " [[12 13]\n",
      " [14 15]\n",
      " [16 17]\n",
      " [18 19]\n",
      " [20 21]\n",
      " [22 23]],\n",
      " [[12 13 14 15]\n",
      " [16 17 18 19]\n",
      " [20 21 22 23]],\n",
      " [[12 13 14]\n",
      " [15 16 17]\n",
      " [18 19 20]\n",
      " [21 22 23]]\n"
     ]
    }
   ],
   "source": [
    "b1 = np.reshape(a, (12, -1))\n",
    "b2 = np.reshape(a, (-1, 6))\n",
    "b3 = np.reshape(a, (6, -1))\n",
    "b4 = np.reshape(a, (-1, 4))\n",
    "b5 = np.reshape(a, (4, -1))\n",
    "print(f'{b1},\\n {b2},\\n {b3},\\n {b4},\\n {b5}')"
   ]
  },
  {
   "cell_type": "markdown",
   "id": "38e18006",
   "metadata": {},
   "source": [
    "4."
   ]
  },
  {
   "cell_type": "markdown",
   "id": "14657df6",
   "metadata": {},
   "source": [
    "Нет.\n",
    "Одномерный массив — массив, с одним параметром, характеризующим количество элементов одномерного массива. \n",
    "Фактически одномерный массив — это массив, у которого может быть только одна строка, и n-е количество столбцов. \n",
    "Столбцы в одномерном массиве — это элементы массива."
   ]
  },
  {
   "cell_type": "markdown",
   "id": "cdf74cb2",
   "metadata": {},
   "source": [
    "5."
   ]
  },
  {
   "cell_type": "code",
   "execution_count": 75,
   "id": "bfb2691a",
   "metadata": {},
   "outputs": [
    {
     "data": {
      "text/plain": [
       "array([[ 0.49671415, -0.1382643 ,  0.64768854,  1.52302986],\n",
       "       [-0.23415337, -0.23413696,  1.57921282,  0.76743473],\n",
       "       [-0.46947439,  0.54256004, -0.46341769, -0.46572975]])"
      ]
     },
     "execution_count": 75,
     "metadata": {},
     "output_type": "execute_result"
    }
   ],
   "source": [
    "b = np.random.randn(3, 4)\n",
    "b"
   ]
  },
  {
   "cell_type": "code",
   "execution_count": 76,
   "id": "49195b5d",
   "metadata": {},
   "outputs": [
    {
     "data": {
      "text/plain": [
       "12"
      ]
     },
     "execution_count": 76,
     "metadata": {},
     "output_type": "execute_result"
    }
   ],
   "source": [
    "b.size"
   ]
  },
  {
   "cell_type": "code",
   "execution_count": 77,
   "id": "155f59ec",
   "metadata": {},
   "outputs": [
    {
     "data": {
      "text/plain": [
       "array([ 0.49671415, -0.1382643 ,  0.64768854,  1.52302986, -0.23415337,\n",
       "       -0.23413696,  1.57921282,  0.76743473, -0.46947439,  0.54256004,\n",
       "       -0.46341769, -0.46572975])"
      ]
     },
     "execution_count": 77,
     "metadata": {},
     "output_type": "execute_result"
    }
   ],
   "source": [
    "h = b.flatten()\n",
    "h"
   ]
  },
  {
   "cell_type": "code",
   "execution_count": 78,
   "id": "81fca685",
   "metadata": {},
   "outputs": [
    {
     "data": {
      "text/plain": [
       "12"
      ]
     },
     "execution_count": 78,
     "metadata": {},
     "output_type": "execute_result"
    }
   ],
   "source": [
    "h.size"
   ]
  },
  {
   "cell_type": "code",
   "execution_count": 79,
   "id": "bf999e71",
   "metadata": {},
   "outputs": [
    {
     "data": {
      "text/plain": [
       "True"
      ]
     },
     "execution_count": 79,
     "metadata": {},
     "output_type": "execute_result"
    }
   ],
   "source": [
    "h.size == b.size"
   ]
  },
  {
   "cell_type": "markdown",
   "id": "af7fd8ce",
   "metadata": {},
   "source": [
    "6. "
   ]
  },
  {
   "cell_type": "code",
   "execution_count": 80,
   "id": "e8c23a78",
   "metadata": {},
   "outputs": [
    {
     "data": {
      "text/plain": [
       "array([20, 18, 16, 14, 12, 10,  8,  6,  4,  2])"
      ]
     },
     "execution_count": 80,
     "metadata": {},
     "output_type": "execute_result"
    }
   ],
   "source": [
    "a = np.arange(20, 0, -2)\n",
    "a"
   ]
  },
  {
   "cell_type": "markdown",
   "id": "a39e3cd2",
   "metadata": {},
   "source": [
    "7."
   ]
  },
  {
   "cell_type": "code",
   "execution_count": 81,
   "id": "5aa85f98",
   "metadata": {},
   "outputs": [
    {
     "data": {
      "text/plain": [
       "array([[20, 18, 16, 14, 12, 10,  8,  6,  4,  2]])"
      ]
     },
     "execution_count": 81,
     "metadata": {},
     "output_type": "execute_result"
    }
   ],
   "source": [
    "b1 = np.reshape(np.arange(20, 0, -2), (1, 10))\n",
    "b1"
   ]
  },
  {
   "cell_type": "markdown",
   "id": "f4fdbf28",
   "metadata": {},
   "source": [
    "в первом случае одномерный массив, во втором двумерный массив с одной строкой. "
   ]
  },
  {
   "cell_type": "markdown",
   "id": "195819a1",
   "metadata": {},
   "source": [
    "8."
   ]
  },
  {
   "cell_type": "code",
   "execution_count": 82,
   "id": "23d9c776",
   "metadata": {},
   "outputs": [
    {
     "name": "stdout",
     "output_type": "stream",
     "text": [
      "A\n",
      "[[0. 0.]\n",
      " [0. 0.]\n",
      " [0. 0.]]\n",
      "B\n",
      " [[1. 1.]\n",
      " [1. 1.]]\n",
      "V\n",
      "[[0. 0.]\n",
      " [0. 0.]\n",
      " [0. 0.]\n",
      " [1. 1.]\n",
      " [1. 1.]]\n"
     ]
    },
    {
     "data": {
      "text/plain": [
       "10"
      ]
     },
     "execution_count": 82,
     "metadata": {},
     "output_type": "execute_result"
    }
   ],
   "source": [
    "a = np.zeros((3, 2))\n",
    "b = np.ones((2, 2))\n",
    "print('A', a, sep='\\n')\n",
    "print('B', b, sep='\\n ')\n",
    "v = np.concatenate((a, b), axis = 0)\n",
    "print('V', v, sep='\\n')\n",
    "v.size"
   ]
  },
  {
   "cell_type": "markdown",
   "id": "6c3c4e2e",
   "metadata": {},
   "source": [
    "9."
   ]
  },
  {
   "cell_type": "code",
   "execution_count": 83,
   "id": "74f312f1",
   "metadata": {},
   "outputs": [
    {
     "data": {
      "text/plain": [
       "array([ 0,  1,  2,  3,  4,  5,  6,  7,  8,  9, 10, 11])"
      ]
     },
     "execution_count": 83,
     "metadata": {},
     "output_type": "execute_result"
    }
   ],
   "source": [
    "a = np.linspace(0, 12, 12, endpoint=False).astype(int)\n",
    "a"
   ]
  },
  {
   "cell_type": "code",
   "execution_count": 84,
   "id": "299317f6",
   "metadata": {},
   "outputs": [
    {
     "data": {
      "text/plain": [
       "array([[ 0,  1,  2],\n",
       "       [ 3,  4,  5],\n",
       "       [ 6,  7,  8],\n",
       "       [ 9, 10, 11]])"
      ]
     },
     "execution_count": 84,
     "metadata": {},
     "output_type": "execute_result"
    }
   ],
   "source": [
    "A = np.reshape(a, (4, 3))\n",
    "A"
   ]
  },
  {
   "cell_type": "code",
   "execution_count": 85,
   "id": "f5b58cf5",
   "metadata": {},
   "outputs": [
    {
     "data": {
      "text/plain": [
       "array([[ 0,  3,  6,  9],\n",
       "       [ 1,  4,  7, 10],\n",
       "       [ 2,  5,  8, 11]])"
      ]
     },
     "execution_count": 85,
     "metadata": {},
     "output_type": "execute_result"
    }
   ],
   "source": [
    "At = A.T\n",
    "At"
   ]
  },
  {
   "cell_type": "code",
   "execution_count": 86,
   "id": "72d9b0a2",
   "metadata": {},
   "outputs": [
    {
     "data": {
      "text/plain": [
       "array([[  5,  14,  23,  32],\n",
       "       [ 14,  50,  86, 122],\n",
       "       [ 23,  86, 149, 212],\n",
       "       [ 32, 122, 212, 302]])"
      ]
     },
     "execution_count": 86,
     "metadata": {},
     "output_type": "execute_result"
    }
   ],
   "source": [
    "B = A.dot(At)\n",
    "B"
   ]
  },
  {
   "cell_type": "code",
   "execution_count": 87,
   "id": "00a1943a",
   "metadata": {},
   "outputs": [
    {
     "data": {
      "text/plain": [
       "16"
      ]
     },
     "execution_count": 87,
     "metadata": {},
     "output_type": "execute_result"
    }
   ],
   "source": [
    "B.size"
   ]
  },
  {
   "cell_type": "markdown",
   "id": "a0341a4e",
   "metadata": {},
   "source": [
    "Матрицы A и At можно умножить друг на друга, если число столбцов первой матрицы равняется числу строк второй матрицы. \n",
    "В таком случае результатом умножения будет матрица В с количеством строк как у первой матрицы, а столбцов у второй. "
   ]
  },
  {
   "cell_type": "code",
   "execution_count": 91,
   "id": "5ff23f3d",
   "metadata": {},
   "outputs": [
    {
     "data": {
      "text/plain": [
       "0.0"
      ]
     },
     "execution_count": 91,
     "metadata": {},
     "output_type": "execute_result"
    }
   ],
   "source": [
    "B_det = np.linalg.det(B)\n",
    "B_det"
   ]
  },
  {
   "cell_type": "markdown",
   "id": "6ef055a3",
   "metadata": {},
   "source": [
    "Вычислить обратную матрицу нельзя, т.к. определитель равен 0"
   ]
  },
  {
   "cell_type": "markdown",
   "id": "d23c10d6",
   "metadata": {},
   "source": [
    "10."
   ]
  },
  {
   "cell_type": "code",
   "execution_count": 92,
   "id": "2cf1f6e4",
   "metadata": {},
   "outputs": [
    {
     "name": "stdout",
     "output_type": "stream",
     "text": [
      "0.6394267984578837\n"
     ]
    }
   ],
   "source": [
    "import random\n",
    "random.seed(42)\n",
    "print(random.random())\n"
   ]
  },
  {
   "cell_type": "markdown",
   "id": "ffed864f",
   "metadata": {},
   "source": [
    "11."
   ]
  },
  {
   "cell_type": "code",
   "execution_count": 96,
   "id": "bfef2716",
   "metadata": {},
   "outputs": [
    {
     "data": {
      "text/plain": [
       "array([ 0,  1,  2,  3,  4,  5,  6,  7,  8,  9, 10, 11, 12, 13, 14, 15])"
      ]
     },
     "execution_count": 96,
     "metadata": {},
     "output_type": "execute_result"
    }
   ],
   "source": [
    "c = np.linspace(0, 16, 16, endpoint=False).astype(int)\n",
    "c"
   ]
  },
  {
   "cell_type": "markdown",
   "id": "0214e4ba",
   "metadata": {},
   "source": [
    "12."
   ]
  },
  {
   "cell_type": "code",
   "execution_count": 100,
   "id": "2d1f9328",
   "metadata": {},
   "outputs": [
    {
     "data": {
      "text/plain": [
       "array([[ 0,  1,  2,  3],\n",
       "       [ 4,  5,  6,  7],\n",
       "       [ 8,  9, 10, 11],\n",
       "       [12, 13, 14, 15]])"
      ]
     },
     "execution_count": 100,
     "metadata": {},
     "output_type": "execute_result"
    }
   ],
   "source": [
    "C = np.reshape(c, (4, 4))\n",
    "C"
   ]
  },
  {
   "cell_type": "code",
   "execution_count": 101,
   "id": "c44ae982",
   "metadata": {},
   "outputs": [
    {
     "data": {
      "text/plain": [
       "array([[    0,   140,   460,   960],\n",
       "       [  560,  2500,  5160,  8540],\n",
       "       [ 1840,  7740, 14900, 23320],\n",
       "       [ 3840, 15860, 29680, 45300]])"
      ]
     },
     "execution_count": 101,
     "metadata": {},
     "output_type": "execute_result"
    }
   ],
   "source": [
    "D = B * (C * 10)\n",
    "D"
   ]
  },
  {
   "cell_type": "code",
   "execution_count": 103,
   "id": "8d6225a3",
   "metadata": {},
   "outputs": [
    {
     "name": "stdout",
     "output_type": "stream",
     "text": [
      "Определитель:  -7.956259651109595e-05\n"
     ]
    }
   ],
   "source": [
    "D_det = np.linalg.det(D)\n",
    "print(\"Определитель: \", D_det)"
   ]
  },
  {
   "cell_type": "code",
   "execution_count": 105,
   "id": "12826947",
   "metadata": {},
   "outputs": [
    {
     "name": "stdout",
     "output_type": "stream",
     "text": [
      "Обратная матрица:  [[-4.88671835e+11  1.46601550e+12 -1.46601550e+12  4.88671835e+11]\n",
      " [ 1.46601550e+12 -4.39804651e+12  4.39804651e+12 -1.46601550e+12]\n",
      " [-1.46601550e+12  4.39804651e+12 -4.39804651e+12  1.46601550e+12]\n",
      " [ 4.88671835e+11 -1.46601550e+12  1.46601550e+12 -4.88671835e+11]]\n"
     ]
    }
   ],
   "source": [
    "D_inv = np.linalg.inv(D)\n",
    "print(\"Обратная матрица: \", D_inv)  "
   ]
  },
  {
   "cell_type": "code",
   "execution_count": 106,
   "id": "cdcbe553",
   "metadata": {},
   "outputs": [
    {
     "name": "stdout",
     "output_type": "stream",
     "text": [
      "Ранг матрицы:  3\n"
     ]
    }
   ],
   "source": [
    "D_rank = np.linalg.matrix_rank(D)\n",
    "print(\"Ранг матрицы: \", D_rank) "
   ]
  },
  {
   "cell_type": "markdown",
   "id": "c6c3b328",
   "metadata": {},
   "source": [
    "13."
   ]
  },
  {
   "cell_type": "code",
   "execution_count": 107,
   "id": "abffd3c9",
   "metadata": {},
   "outputs": [
    {
     "data": {
      "text/plain": [
       "array([[0., 1., 0., 1.],\n",
       "       [1., 0., 1., 0.],\n",
       "       [0., 1., 0., 1.],\n",
       "       [1., 0., 1., 0.]])"
      ]
     },
     "execution_count": 107,
     "metadata": {},
     "output_type": "execute_result"
    }
   ],
   "source": [
    "positive = D_inv > 0\n",
    "negative = D_inv < 0\n",
    "D_inv[positive] = 1\n",
    "D_inv[negative] = 0\n",
    "D_inv\n",
    "\n"
   ]
  },
  {
   "cell_type": "code",
   "execution_count": 108,
   "id": "886d20a9",
   "metadata": {},
   "outputs": [
    {
     "data": {
      "text/plain": [
       "array([[  0,  14,   2,  32],\n",
       "       [ 14,   5,  86,   7],\n",
       "       [  8,  86,  10, 212],\n",
       "       [ 32,  13, 212,  15]])"
      ]
     },
     "execution_count": 108,
     "metadata": {},
     "output_type": "execute_result"
    }
   ],
   "source": [
    "E = np.where(D_inv, B, C)\n",
    "E"
   ]
  },
  {
   "cell_type": "code",
   "execution_count": null,
   "id": "2c91d7c7",
   "metadata": {},
   "outputs": [],
   "source": []
  }
 ],
 "metadata": {
  "kernelspec": {
   "display_name": "Python 3 (ipykernel)",
   "language": "python",
   "name": "python3"
  },
  "language_info": {
   "codemirror_mode": {
    "name": "ipython",
    "version": 3
   },
   "file_extension": ".py",
   "mimetype": "text/x-python",
   "name": "python",
   "nbconvert_exporter": "python",
   "pygments_lexer": "ipython3",
   "version": "3.9.7"
  }
 },
 "nbformat": 4,
 "nbformat_minor": 5
}
